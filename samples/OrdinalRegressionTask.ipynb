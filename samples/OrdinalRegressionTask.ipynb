{
 "cells": [
  {
   "cell_type": "code",
   "execution_count": 1,
   "metadata": {
    "collapsed": false
   },
   "outputs": [
    {
     "name": "stdout",
     "output_type": "stream",
     "text": [
      "Python 3.6.0\r\n"
     ]
    }
   ],
   "source": [
    "!python -V"
   ]
  },
  {
   "cell_type": "code",
   "execution_count": 2,
   "metadata": {
    "collapsed": false
   },
   "outputs": [],
   "source": [
    "%matplotlib inline\n",
    "import numpy as np\n",
    "import pandas as pd\n",
    "import os,sys,inspect\n",
    "from sklearn.model_selection import train_test_split\n",
    "# [START 自作モジュールの読み込み]\n",
    "currentdir = os.path.dirname(os.path.abspath(inspect.getfile(inspect.currentframe())))\n",
    "parentdir = os.path.dirname(currentdir)\n",
    "sys.path.insert(0, parentdir) \n",
    "from fmlite.core import FMLite\n",
    "# [END 自作モジュールの読み込み]"
   ]
  },
  {
   "cell_type": "code",
   "execution_count": 3,
   "metadata": {
    "collapsed": true
   },
   "outputs": [],
   "source": [
    "X = np.matrix([\n",
    "  #  Users  |     Movies     |    Movie Ratings   | Time | Last Movies Rated\n",
    "  # A  B  C | TI  NH  SW  ST | TI   NH   SW   ST  |      | TI  NH  SW  ST\n",
    "    [1, 0, 0,  1,  0,  0,  0,   0.3, 0.3, 0.3, 0,     13,   0,  0,  0,  0 ],\n",
    "    [1, 0, 0,  0,  1,  0,  0,   0.3, 0.3, 0.3, 0,     14,   1,  0,  0,  0 ],\n",
    "    [1, 0, 0,  0,  0,  1,  0,   0.3, 0.3, 0.3, 0,     16,   0,  1,  0,  0 ],\n",
    "    [0, 1, 0,  0,  0,  1,  0,   0,   0,   0.5, 0.5,   5,    0,  0,  0,  0 ],\n",
    "    [0, 1, 0,  0,  0,  0,  1,   0,   0,   0.5, 0.5,   8,    0,  0,  1,  0 ],\n",
    "    [0, 0, 1,  1,  0,  0,  0,   0.5, 0,   0.5, 0,     9,    0,  0,  0,  0 ],\n",
    "    [0, 0, 1,  0,  0,  1,  0,   0.5, 0,   0.5, 0,     12,   1,  0,  0,  0 ]\n",
    "])\n",
    "y = np.array([5, 3, 1, 4, 5, 1, 5])\n",
    "\n",
    "# [START train test split]\n",
    "X_train, X_test, y_train, y_test = train_test_split(X, y, test_size=0.1, random_state=42)\n",
    "# [END train test split]"
   ]
  },
  {
   "cell_type": "code",
   "execution_count": 4,
   "metadata": {
    "collapsed": false
   },
   "outputs": [
    {
     "name": "stderr",
     "output_type": "stream",
     "text": [
      "100%|██████████| 20/20 [00:00<00:00, 41.19it/s]"
     ]
    },
    {
     "name": "stdout",
     "output_type": "stream",
     "text": [
      "+---------+---------+\n",
      "| FIELD   |  VALUE  |\n",
      "+---------+---------+\n",
      "| epochs  |    20   |\n",
      "| RMSE    |   2.0   |\n",
      "| bias    |  0.1378 |\n",
      "| feat 1  | -0.1123 |\n",
      "| feat 2  |  0.2186 |\n",
      "| feat 3  |  0.0316 |\n",
      "| feat 4  | -0.0552 |\n",
      "| feat 5  |  0.0001 |\n",
      "| feat 6  |  0.0774 |\n",
      "| feat 7  |  0.1155 |\n",
      "| feat 8  | -0.0179 |\n",
      "| feat 9  | -0.0337 |\n",
      "| feat 10 |  0.0914 |\n",
      "| feat 11 |  0.1093 |\n",
      "| feat 12 |  0.1867 |\n",
      "| feat 13 |  0.0868 |\n",
      "| feat 14 | -0.1124 |\n",
      "| feat 15 |  0.1155 |\n",
      "| feat 16 |   0.0   |\n",
      "+---------+---------+\n"
     ]
    },
    {
     "name": "stderr",
     "output_type": "stream",
     "text": [
      "\n"
     ]
    }
   ],
   "source": [
    "# [START モデルの学習]\n",
    "model = FMLite(k=3, n_epochs=20).fit(X_train, y_train)\n",
    "# [END モデルの学習]"
   ]
  },
  {
   "cell_type": "code",
   "execution_count": 5,
   "metadata": {
    "collapsed": false
   },
   "outputs": [
    {
     "name": "stdout",
     "output_type": "stream",
     "text": [
      "--------------------------------------------------\n",
      "予測値: 2.4089\n",
      "実測値: 3\n",
      "--------------------------------------------------\n"
     ]
    }
   ],
   "source": [
    "# [START モデルによる予測]\n",
    "y_pred = model.predict(X_test)\n",
    "print('-----' * 10)\n",
    "for pred, obs in zip(y_pred, y_train):\n",
    "    print('予測値: {}'.format(round(pred, 4)))\n",
    "    print('実測値: {}'.format(round(obs, 4)))\n",
    "    print('-----' * 10)\n",
    "# [END モデルによる予測]"
   ]
  },
  {
   "cell_type": "code",
   "execution_count": 6,
   "metadata": {
    "collapsed": false
   },
   "outputs": [
    {
     "data": {
      "text/plain": [
       "<matplotlib.axes._subplots.AxesSubplot at 0x118b70128>"
      ]
     },
     "execution_count": 6,
     "metadata": {},
     "output_type": "execute_result"
    },
    {
     "data": {
      "image/png": "[encoded data removed]",
      "text/plain": [
       "<matplotlib.figure.Figure at 0x118e556a0>"
      ]
     },
     "metadata": {},
     "output_type": "display_data"
    }
   ],
   "source": [
    "# [START 学習の過程の可視化]\n",
    "ser = pd.Series(model.errors)\n",
    "ser.map(lambda val: val ** 2).plot(kind='bar', figsize=(12, 5))\n",
    "# [END 学習の過程の可視化]"
   ]
  },
  {
   "cell_type": "code",
   "execution_count": null,
   "metadata": {
    "collapsed": true
   },
   "outputs": [],
   "source": []
  }
 ],
 "metadata": {
  "anaconda-cloud": {},
  "kernelspec": {
   "display_name": "Python [Root]",
   "language": "python",
   "name": "Python [Root]"
  },
  "language_info": {
   "codemirror_mode": {
    "name": "ipython",
    "version": 3
   },
   "file_extension": ".py",
   "mimetype": "text/x-python",
   "name": "python",
   "nbconvert_exporter": "python",
   "pygments_lexer": "ipython3",
   "version": "3.5.2"
  }
 },
 "nbformat": 4,
 "nbformat_minor": 0
}
